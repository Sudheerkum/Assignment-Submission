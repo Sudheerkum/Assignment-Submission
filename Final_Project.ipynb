{
  "nbformat": 4,
  "nbformat_minor": 0,
  "metadata": {
    "colab": {
      "name": "Final Project.ipynb",
      "provenance": [],
      "collapsed_sections": [],
      "authorship_tag": "ABX9TyOmAjVp1sKsbenHJlL6A09Y",
      "include_colab_link": true
    },
    "kernelspec": {
      "name": "python3",
      "display_name": "Python 3"
    },
    "language_info": {
      "name": "python"
    }
  },
  "cells": [
    {
      "cell_type": "markdown",
      "metadata": {
        "id": "view-in-github",
        "colab_type": "text"
      },
      "source": [
        "<a href=\"https://colab.research.google.com/github/Sudheerkum/Assignment-Submission/blob/main/Final_Project.ipynb\" target=\"_parent\"><img src=\"https://colab.research.google.com/assets/colab-badge.svg\" alt=\"Open In Colab\"/></a>"
      ]
    },
    {
      "cell_type": "code",
      "metadata": {
        "colab": {
          "base_uri": "https://localhost:8080/"
        },
        "id": "cEsMrr7H6f4f",
        "outputId": "693718d4-a556-4ab1-e7f0-f1329c8c2f9c"
      },
      "source": [
        "#Final Project\n",
        "\n",
        "Celsius = 50\n",
        "\n",
        "Fahrenheit = (Celsius*9/5)+32\n",
        "\n",
        "print('%0.1f degree Celsius is equal to %0.1f degree Fahrenheit'%(Celsius,Fahrenheit))\n",
        "\n"
      ],
      "execution_count": 9,
      "outputs": [
        {
          "output_type": "stream",
          "text": [
            "50.0 degree Celsius is equal to 122.0 degree Fahrenheit\n"
          ],
          "name": "stdout"
        }
      ]
    }
  ]
}