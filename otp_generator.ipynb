{
  "nbformat": 4,
  "nbformat_minor": 0,
  "metadata": {
    "colab": {
      "name": "otp generator.ipynb",
      "provenance": [],
      "authorship_tag": "ABX9TyMcK6Q/NspRqBxLZKkojVyJ",
      "include_colab_link": true
    },
    "kernelspec": {
      "name": "python3",
      "display_name": "Python 3"
    },
    "language_info": {
      "name": "python"
    }
  },
  "cells": [
    {
      "cell_type": "markdown",
      "metadata": {
        "id": "view-in-github",
        "colab_type": "text"
      },
      "source": [
        "<a href=\"https://colab.research.google.com/github/Sudheerkum/Assignment-Submission/blob/main/otp_generator.ipynb\" target=\"_parent\"><img src=\"https://colab.research.google.com/assets/colab-badge.svg\" alt=\"Open In Colab\"/></a>"
      ]
    },
    {
      "cell_type": "code",
      "metadata": {
        "colab": {
          "base_uri": "https://localhost:8080/"
        },
        "id": "orijH5ZYOKyZ",
        "outputId": "1908c692-9064-4928-80ff-1ceb7fda1a6a"
      },
      "source": [
        "import random as r\n",
        "import string\n",
        "length = 6\n",
        "otp = ''\n",
        "characters = string.ascii_lowercase+string.digits+string.ascii_uppercase\n",
        "print(characters)\n",
        "\n",
        "for i in range(length):\n",
        "   otp = otp + r.choice(characters)\n",
        "print(\"OTP:\",otp)"
      ],
      "execution_count": 9,
      "outputs": [
        {
          "output_type": "stream",
          "text": [
            "abcdefghijklmnopqrstuvwxyz0123456789ABCDEFGHIJKLMNOPQRSTUVWXYZ\n",
            "OTP: p52Ax4\n"
          ],
          "name": "stdout"
        }
      ]
    }
  ]
}